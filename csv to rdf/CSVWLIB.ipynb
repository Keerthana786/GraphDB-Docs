{
 "cells": [
  {
   "cell_type": "code",
   "execution_count": 1,
   "metadata": {},
   "outputs": [],
   "source": [
    "from csvwlib import CSVWConverter"
   ]
  },
  {
   "cell_type": "code",
   "execution_count": 8,
   "metadata": {},
   "outputs": [
    {
     "data": {
      "text/plain": [
       "'@prefix : <http://w3c.github.io/csvw/tests/test001.csv#> .\\n@prefix as: <https://www.w3.org/ns/activitystreams#> .\\n@prefix cc: <http://creativecommons.org/ns#> .\\n@prefix csvw: <http://www.w3.org/ns/csvw#> .\\n@prefix ctag: <http://commontag.org/ns#> .\\n@prefix dc: <http://purl.org/dc/terms/> .\\n@prefix dc11: <http://purl.org/dc/elements/1.1/> .\\n@prefix dcat: <http://www.w3.org/ns/dcat#> .\\n@prefix dcterms: <http://purl.org/dc/terms/> .\\n@prefix dqv: <http://www.w3.org/ns/dqv#> .\\n@prefix duv: <https://www.w3.org/TR/vocab-duv#> .\\n@prefix foaf: <http://xmlns.com/foaf/0.1/> .\\n@prefix gr: <http://purl.org/goodrelations/v1#> .\\n@prefix grddl: <http://www.w3.org/2003/g/data-view#> .\\n@prefix ical: <http://www.w3.org/2002/12/cal/icaltzd#> .\\n@prefix ldp: <http://www.w3.org/ns/ldp#> .\\n@prefix ma: <http://www.w3.org/ns/ma-ont#> .\\n@prefix oa: <http://www.w3.org/ns/oa#> .\\n@prefix og: <http://ogp.me/ns#> .\\n@prefix org: <http://www.w3.org/ns/org#> .\\n@prefix owl: <http://www.w3.org/2002/07/owl#> .\\n@prefix prov: <http://www.w3.org/ns/prov#> .\\n@prefix qb: <http://purl.org/linked-data/cube#> .\\n@prefix rdf: <http://www.w3.org/1999/02/22-rdf-syntax-ns#> .\\n@prefix rdfa: <http://www.w3.org/ns/rdfa#> .\\n@prefix rdfs: <http://www.w3.org/2000/01/rdf-schema#> .\\n@prefix rev: <http://purl.org/stuff/rev#> .\\n@prefix rif: <http://www.w3.org/2007/rif#> .\\n@prefix rr: <http://www.w3.org/ns/r2rml#> .\\n@prefix schema: <http://schema.org/> .\\n@prefix sd: <http://www.w3.org/ns/sparql-service-description#> .\\n@prefix sioc: <http://rdfs.org/sioc/ns#> .\\n@prefix skos: <http://www.w3.org/2004/02/skos/core#> .\\n@prefix skosxl: <http://www.w3.org/2008/05/skos-xl#> .\\n@prefix sosa: <http://www.w3.org/ns/sosa/> .\\n@prefix ssn: <http://www.w3.org/ns/ssn/> .\\n@prefix time: <http://www.w3.org/2006/time#> .\\n@prefix v: <http://rdf.data-vocabulary.org/#> .\\n@prefix vcard: <http://www.w3.org/2006/vcard/ns#> .\\n@prefix void: <http://rdfs.org/ns/void#> .\\n@prefix wdr: <http://www.w3.org/2007/05/powder#> .\\n@prefix wdrs: <http://www.w3.org/2007/05/powder-s#> .\\n@prefix xhv: <http://www.w3.org/1999/xhtml/vocab#> .\\n@prefix xml: <http://www.w3.org/XML/1998/namespace> .\\n@prefix xsd: <http://www.w3.org/2001/XMLSchema#> .\\n\\n[] a csvw:TableGroup ;\\n    csvw:table [ a csvw:Table ;\\n            csvw:row [ a csvw:Row ;\\n                    csvw:describes [ :FamilyName \"Simpson\" ;\\n                            :Surname \"Lisa\" ] ;\\n                    csvw:rownum 4 ;\\n                    csvw:url <http://w3c.github.io/csvw/tests/test001.csv#row=5> ],\\n                [ a csvw:Row ;\\n                    csvw:describes [ :FamilyName \"Simpson\" ;\\n                            :Surname \"Homer\" ] ;\\n                    csvw:rownum 1 ;\\n                    csvw:url <http://w3c.github.io/csvw/tests/test001.csv#row=2> ],\\n                [ a csvw:Row ;\\n                    csvw:describes [ :FamilyName \"Simpson\" ;\\n                            :Surname \"Bart\" ] ;\\n                    csvw:rownum 3 ;\\n                    csvw:url <http://w3c.github.io/csvw/tests/test001.csv#row=4> ],\\n                [ a csvw:Row ;\\n                    csvw:describes [ :FamilyName \"Flanders\" ;\\n                            :Surname \"Ned\" ] ;\\n                    csvw:rownum 6 ;\\n                    csvw:url <http://w3c.github.io/csvw/tests/test001.csv#row=7> ],\\n                [ a csvw:Row ;\\n                    csvw:describes [ :FamilyName \"Smithers\" ;\\n                            :Surname \"Waylon\" ] ;\\n                    csvw:rownum 8 ;\\n                    csvw:url <http://w3c.github.io/csvw/tests/test001.csv#row=9> ],\\n                [ a csvw:Row ;\\n                    csvw:describes [ :FamilyName \"the Clown\" ;\\n                            :Surname \"Krusty\" ] ;\\n                    csvw:rownum 7 ;\\n                    csvw:url <http://w3c.github.io/csvw/tests/test001.csv#row=8> ],\\n                [ a csvw:Row ;\\n                    csvw:describes [ :FamilyName \"Simpson\" ;\\n                            :Surname \"Marge\" ] ;\\n                    csvw:rownum 2 ;\\n                    csvw:url <http://w3c.github.io/csvw/tests/test001.csv#row=3> ],\\n                [ a csvw:Row ;\\n                    csvw:describes [ :FamilyName \"Simpson\" ;\\n                            :Surname \"Maggie\" ] ;\\n                    csvw:rownum 5 ;\\n                    csvw:url <http://w3c.github.io/csvw/tests/test001.csv#row=6> ] ;\\n            csvw:url <http://w3c.github.io/csvw/tests/test001.csv> ] .\\n\\n'"
      ]
     },
     "execution_count": 8,
     "metadata": {},
     "output_type": "execute_result"
    }
   ],
   "source": [
    "CSVWConverter.to_rdf('http://w3c.github.io/csvw/tests/test001.csv', format='ttl')"
   ]
  },
  {
   "cell_type": "code",
   "execution_count": null,
   "metadata": {},
   "outputs": [],
   "source": []
  }
 ],
 "metadata": {
  "kernelspec": {
   "display_name": "Python 3",
   "language": "python",
   "name": "python3"
  },
  "language_info": {
   "codemirror_mode": {
    "name": "ipython",
    "version": 3
   },
   "file_extension": ".py",
   "mimetype": "text/x-python",
   "name": "python",
   "nbconvert_exporter": "python",
   "pygments_lexer": "ipython3",
   "version": "3.5.2"
  }
 },
 "nbformat": 4,
 "nbformat_minor": 2
}
